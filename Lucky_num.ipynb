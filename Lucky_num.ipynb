{
 "cells": [
  {
   "cell_type": "code",
   "execution_count": 20,
   "metadata": {},
   "outputs": [
    {
     "name": "stdout",
     "output_type": "stream",
     "text": [
      "Input \"k\" what you want to know order of lucky num : 111\n"
     ]
    },
    {
     "data": {
      "text/plain": [
       "774444"
      ]
     },
     "execution_count": 20,
     "metadata": {},
     "output_type": "execute_result"
    }
   ],
   "source": [
    "standard = 0 # disignate maximum of same ciphers's value\n",
    "cipher = 0 # disignate ciphers of lucky value\n",
    "value = 0 # be lucky(k)'s value finally\n",
    "\n",
    "def lucky_trace_back(k):\n",
    "    \"\"\"\n",
    "    int -> int\n",
    "    \n",
    "    algorithm)\n",
    "    In condition of already being provided lenth of value,\n",
    "    It calcurate value of position initial to final.\n",
    "    \n",
    "    This functon builted for lucky(k) to support calculating value.\n",
    "    so, there is no example.\n",
    "    \n",
    "    ps) I don't know loop yet, so i made this fuction without loops.\n",
    "    \n",
    "    \"\"\"\n",
    "    global standard\n",
    "    global cipher\n",
    "    global value # set conditions\n",
    "    cipher = cipher - 1 # trace back\n",
    "    if standard == 0:\n",
    "        return value\n",
    "    elif k > standard - 2**cipher:\n",
    "        value = value + 7*(10**cipher)\n",
    "        standard = standard - 2**(cipher+1)\n",
    "        k = k - 2*(2**cipher)\n",
    "        return lucky_trace_back(k)\n",
    "    else:\n",
    "        value = value + 4*(10**cipher)\n",
    "        standard = standard - 2**(cipher + 1)\n",
    "        k = k - 2**cipher\n",
    "        return lucky_trace_back(k)\n",
    "def lucky(k):\n",
    "    \"\"\"\n",
    "    int -> int\n",
    "    \n",
    "    \"k\" disignate order of lucky num\n",
    "    \n",
    "    this fuction calculate lucky num's value ,which order of \"k\"\n",
    "    what is lucky num? that is formed only by 4 and 7 num.\n",
    "    This algebra struture is similar with binary's. \n",
    "    \n",
    "    operating example)\n",
    "    lucky(1) = 4\n",
    "    lucky(2) = 7\n",
    "    lucky(3) = 44\n",
    "    ps)\n",
    "    i don't know loop yet, so i made this fuction without loop.\n",
    "    \"\"\"\n",
    "    k = k - 1\n",
    "    global standard\n",
    "    global cipher # set condition\n",
    "    if k >= standard:\n",
    "        cipher = cipher + 1\n",
    "        standard = standard + 2**cipher\n",
    "        return lucky(k+1) #find cipher by sum 2 multiplications\n",
    "    else:\n",
    "        return lucky_trace_back(k+1)\n",
    "    \n",
    "lucky(int(input('Input \"k\" what you want to know order of lucky num : ')))"
   ]
  }
 ],
 "metadata": {
  "kernelspec": {
   "display_name": "Python 3",
   "language": "python",
   "name": "python3"
  },
  "language_info": {
   "codemirror_mode": {
    "name": "ipython",
    "version": 3
   },
   "file_extension": ".py",
   "mimetype": "text/x-python",
   "name": "python",
   "nbconvert_exporter": "python",
   "pygments_lexer": "ipython3",
   "version": "3.7.1"
  }
 },
 "nbformat": 4,
 "nbformat_minor": 2
}
